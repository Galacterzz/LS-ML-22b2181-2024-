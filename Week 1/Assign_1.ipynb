{
 "cells": [
  {
   "cell_type": "markdown",
   "metadata": {
    "id": "nKMH5Y1T06vH"
   },
   "source": [
    "# Numpy Implementation"
   ]
  },
  {
   "cell_type": "code",
   "execution_count": 2,
   "metadata": {
    "id": "MM8X0T-p06HB"
   },
   "outputs": [
    {
     "name": "stdout",
     "output_type": "stream",
     "text": [
      "Passed\n"
     ]
    }
   ],
   "source": [
    "import numpy as np\n",
    "# Create a 2D Numpy array of size 1x3 with elements of your choice\n",
    "arr1= np.array([[1, 2, 3]])#Your code here\n",
    "\n",
    "# Create a Numpy array of length 50 with zeroes as its elements\n",
    "arr2= np.zeros(50)#Your code here\n",
    "\n",
    "#Create a Numpy array of length 3x2 with elements of your choice\n",
    "arr3= np.ones((3, 2))#Your code here\n",
    "\n",
    "arr4= np.dot(arr1, arr3)#Multiply arr1 and arr3 using Numpy functions\n",
    "\n",
    "#Change 5th element of arr2 to a different number\n",
    "#Your code here\n",
    "arr2[4] = 69\n",
    "\n",
    "\n",
    "if np.shape(arr4)==(1,2) and arr2[4]!=0:\n",
    "  print(\"Passed\")\n",
    "else:\n",
    "  print(\"Fail\")"
   ]
  },
  {
   "cell_type": "code",
   "execution_count": 3,
   "metadata": {
    "id": "KNTXZFd13rgE"
   },
   "outputs": [],
   "source": [
    "import numpy as np\n",
    "\n",
    "#Task: Perform the dot product of I and 9I+1 using numpy, here I is referred to as an 3x3 Identity matrix.\n",
    "a = np.identity(3)\n",
    "b = (np.identity(3) * 9) + 1\n",
    "\n",
    "c = np.dot(a, b)"
   ]
  },
  {
   "cell_type": "markdown",
   "metadata": {
    "id": "rRrOxN-6FXAb"
   },
   "source": [
    "# Pandas Implementation"
   ]
  },
  {
   "cell_type": "code",
   "execution_count": 7,
   "metadata": {
    "id": "EaoIVtKIFenB"
   },
   "outputs": [
    {
     "name": "stdout",
     "output_type": "stream",
     "text": [
      "   Age\n",
      "0   25\n",
      "1   30\n",
      "2   35\n",
      "     Name  Age       City Country\n",
      "0  Ramesh   25  Bangalore   India\n",
      "1  Mahesh   30     Mumbai   India\n",
      "2  Suresh   35      Delhi   India\n"
     ]
    },
    {
     "data": {
      "text/html": [
       "<div>\n",
       "<style scoped>\n",
       "    .dataframe tbody tr th:only-of-type {\n",
       "        vertical-align: middle;\n",
       "    }\n",
       "\n",
       "    .dataframe tbody tr th {\n",
       "        vertical-align: top;\n",
       "    }\n",
       "\n",
       "    .dataframe thead th {\n",
       "        text-align: right;\n",
       "    }\n",
       "</style>\n",
       "<table border=\"1\" class=\"dataframe\">\n",
       "  <thead>\n",
       "    <tr style=\"text-align: right;\">\n",
       "      <th></th>\n",
       "      <th>Name</th>\n",
       "      <th>Age</th>\n",
       "      <th>City</th>\n",
       "    </tr>\n",
       "  </thead>\n",
       "  <tbody>\n",
       "    <tr>\n",
       "      <th>0</th>\n",
       "      <td>Ramesh</td>\n",
       "      <td>25.0</td>\n",
       "      <td>Bangalore</td>\n",
       "    </tr>\n",
       "    <tr>\n",
       "      <th>1</th>\n",
       "      <td>Mahesh</td>\n",
       "      <td>30.0</td>\n",
       "      <td>Mumbai</td>\n",
       "    </tr>\n",
       "    <tr>\n",
       "      <th>2</th>\n",
       "      <td>Suresh</td>\n",
       "      <td>35.0</td>\n",
       "      <td>Delhi</td>\n",
       "    </tr>\n",
       "  </tbody>\n",
       "</table>\n",
       "</div>"
      ],
      "text/plain": [
       "     Name   Age       City\n",
       "0  Ramesh  25.0  Bangalore\n",
       "1  Mahesh  30.0     Mumbai\n",
       "2  Suresh  35.0      Delhi"
      ]
     },
     "execution_count": 7,
     "metadata": {},
     "output_type": "execute_result"
    }
   ],
   "source": [
    "import pandas as pd\n",
    "\n",
    "## Create a DataFrame from a dictionary\n",
    "data = {\n",
    "    'Name': ['Ramesh', 'Mahesh', 'Suresh'],\n",
    "    'Age': [25, 30, 35],\n",
    "    'City': ['Bangalore', 'Mumbai', 'Delhi']\n",
    "}\n",
    "#Your code here\n",
    "df = pd.DataFrame(data)\n",
    "\n",
    "#Display the first 2 rows of the data frame\n",
    "#Your code here\n",
    "df.iloc[:2]\n",
    "\n",
    "#Print the age column\n",
    "#Your code here\n",
    "print(df[['Age']])\n",
    "\n",
    "#Filter rows where age is greater than 26\n",
    "#Your code here\n",
    "df.loc[df['Age'] > 26]\n",
    "\n",
    "#Add a new column 'Country' with the value 'India' for all rows\n",
    "#Your code here\n",
    "df['Country'] = 'India'\n",
    "print(df)\n",
    "\n",
    "data1 = {\n",
    "    'Name': ['Ramesh', 'Mahesh', 'Suresh'],\n",
    "    'Age': [25, None, 35],\n",
    "    'City': ['Bangalore', 'Mumbai', 'Delhi']\n",
    "}\n",
    "\n",
    "df2= pd.DataFrame(data1)\n",
    "\n",
    "# Fill missing values in the 'Age' column with the mean age\n",
    "#Your code here\n",
    "mean = df['Age'].mean()\n",
    "df2.fillna(mean)"
   ]
  },
  {
   "cell_type": "markdown",
   "metadata": {
    "id": "uay3H4C8cboE"
   },
   "source": [
    "# Matplotlib Implementation"
   ]
  },
  {
   "cell_type": "code",
   "execution_count": 20,
   "metadata": {
    "colab": {
     "base_uri": "https://localhost:8080/",
     "height": 106
    },
    "id": "i4lccqVxcgE_",
    "outputId": "5f093bf0-5059-4031-d49f-511341e86114"
   },
   "outputs": [
    {
     "data": {
      "image/png": "[encoded data removed]",
      "text/plain": [
       "<Figure size 640x480 with 6 Axes>"
      ]
     },
     "metadata": {},
     "output_type": "display_data"
    }
   ],
   "source": [
    "import matplotlib.pyplot as plt\n",
    "import numpy as np#numpy module. Fill your code\n",
    "\n",
    "\n",
    "\n",
    "xpoints=np.array([1,2,3,4])\n",
    "ypoints=np.array([2,4,6,8])\n",
    "\n",
    "#Plot these points without drawing a line\n",
    "#Your code here\n",
    "fig, ax = plt.subplots(2, 3)\n",
    "# plt.figure(figsize=(10,6))\n",
    "ax[0, 0].plot(xpoints, ypoints, 'x')\n",
    "ax[0, 0].set(xlim = (0, 10), xticks = np.arange(1, 10),\n",
    "        ylim = (0, 10), yticks = np.arange(1, 10))\n",
    "# plt.show()\n",
    "\n",
    "#Plotting with marker: Plot these points with a marker(Star marker)\n",
    "#Your code here\n",
    "ax[0, 1].plot(xpoints, ypoints, '*')\n",
    "ax[0, 1].set(xlim = (0, 10), xticks = np.arange(1, 10),\n",
    "        ylim = (0, 10), yticks = np.arange(1, 10))\n",
    "# plt.show()\n",
    "\n",
    "#Using fmt format, add circular marker,red color and Dashed line\n",
    "#Your code here\n",
    "# fig, ax1 = plt.subplots()\n",
    "ax[0, 2].plot(xpoints, ypoints, 'o', linestyle = 'dashed', color = 'r')\n",
    "ax[0, 2].set(xlim = (0, 10), xticks = np.arange(1, 10),\n",
    "        ylim = (0, 10), yticks = np.arange(1, 10))\n",
    "# plt.show()\n",
    "\n",
    "#Add xlabel,ylabel and title for the plot.\n",
    "#Your code here\n",
    "# fig, ax1 = plt.subplots()\n",
    "ax[1, 0].plot(xpoints, ypoints, '*')\n",
    "ax[1, 0].set(xlim = (0, 10), xticks = np.arange(1, 10), ylim = (0, 10), yticks = np.arange(1, 10))\n",
    "plt.xlabel('x-values')\n",
    "plt.ylabel('y-values')\n",
    "plt.title('title-placeholder')\n",
    "# plt.show()\n",
    "\n",
    "#Create a scatter plot for xpoints and ypoints\n",
    "#Your code here\n",
    "# fig, ax1 = plt.subplots()\n",
    "ax[1, 1].scatter(xpoints, ypoints)\n",
    "# plt.show()\n",
    "\n",
    "#Set color to the scatter plot. Blue,Green,Red and yellow color for each point respectively\n",
    "colors = ['blue', 'green', 'red', 'yellow']\n",
    "# fig, ax1 = plt.subplots()\n",
    "ax[1, 2].scatter(xpoints, ypoints, color = colors)\n",
    "plt.show()"
   ]
  },
  {
   "cell_type": "markdown",
   "metadata": {
    "id": "pfe2Fv2tgKq5"
   },
   "source": [
    "# Miscellaneous Modules Implementation"
   ]
  },
  {
   "cell_type": "code",
   "execution_count": 24,
   "metadata": {
    "id": "a_bTz2PlgRah"
   },
   "outputs": [
    {
     "name": "stdout",
     "output_type": "stream",
     "text": [
      "209\n"
     ]
    }
   ],
   "source": [
    "import random\n",
    "import numpy as np\n",
    "\n",
    "#Set the seed of random to 20\n",
    "#Your code here\n",
    "random.seed(20)\n",
    "\n",
    "arr1=np.array([1,24,31,45,73,81,94,25])\n",
    "\n",
    "#Using the random module pick 4 different random numbers from arr1 and return their sum.\n",
    "#Your code here\n",
    "def rand_sum(arr, i):\n",
    "    sum = 0\n",
    "    for i in range(4):\n",
    "        j = random.randint(0, len(arr))\n",
    "        # print(arr[j])\n",
    "        sum += arr[j]\n",
    "    return sum\n",
    "\n",
    "answer = rand_sum(arr1, 4)\n",
    "print(answer)"
   ]
  },
  {
   "cell_type": "code",
   "execution_count": null,
   "metadata": {},
   "outputs": [],
   "source": []
  }
 ],
 "metadata": {
  "colab": {
   "provenance": []
  },
  "kernelspec": {
   "display_name": "Python 3 (ipykernel)",
   "language": "python",
   "name": "python3"
  },
  "language_info": {
   "codemirror_mode": {
    "name": "ipython",
    "version": 3
   },
   "file_extension": ".py",
   "mimetype": "text/x-python",
   "name": "python",
   "nbconvert_exporter": "python",
   "pygments_lexer": "ipython3",
   "version": "3.11.4"
  }
 },
 "nbformat": 4,
 "nbformat_minor": 4
}
